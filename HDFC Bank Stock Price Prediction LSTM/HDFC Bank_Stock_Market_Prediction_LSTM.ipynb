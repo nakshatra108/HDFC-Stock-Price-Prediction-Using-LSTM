{
  "cells": [
    {
      "cell_type": "markdown",
      "metadata": {
        "colab_type": "text",
        "id": "kaScslrtfw9E"
      },
      "source": [
        "## HDFC Stock Price Prediction Using LSTM(Long Short-Term Memory) "
      ]
    },
    {
      "cell_type": "code",
      "execution_count": 17,
      "metadata": {
        "colab": {},
        "colab_type": "code",
        "id": "3Q0k4Bds6XQX"
      },
      "outputs": [],
      "source": [
        "import pandas as pd\n",
        "import numpy as np\n",
        "import matplotlib.pyplot as plt\n",
        "from sklearn.preprocessing import MinMaxScaler\n",
        "from keras.models import Sequential\n",
        "from keras.layers import Dense, LSTM, Dropout\n"
      ]
    },
    {
      "cell_type": "markdown",
      "metadata": {},
      "source": [
        "### Load and Analyze Data"
      ]
    },
    {
      "cell_type": "code",
      "execution_count": 18,
      "metadata": {
        "colab": {},
        "colab_type": "code",
        "id": "zQJTHnPP7Q2I"
      },
      "outputs": [],
      "source": [
        "hdfc = pd.read_csv(r\"HDFCBANK.BO.csv\")"
      ]
    },
    {
      "cell_type": "code",
      "execution_count": 19,
      "metadata": {
        "colab": {
          "base_uri": "https://localhost:8080/",
          "height": 343
        },
        "colab_type": "code",
        "id": "1YYBryFZ7REZ",
        "outputId": "7a7096d5-7a86-4461-cc91-7c56940e2608"
      },
      "outputs": [
        {
          "data": {
            "text/html": [
              "<div>\n",
              "<style scoped>\n",
              "    .dataframe tbody tr th:only-of-type {\n",
              "        vertical-align: middle;\n",
              "    }\n",
              "\n",
              "    .dataframe tbody tr th {\n",
              "        vertical-align: top;\n",
              "    }\n",
              "\n",
              "    .dataframe thead th {\n",
              "        text-align: right;\n",
              "    }\n",
              "</style>\n",
              "<table border=\"1\" class=\"dataframe\">\n",
              "  <thead>\n",
              "    <tr style=\"text-align: right;\">\n",
              "      <th></th>\n",
              "      <th>Date</th>\n",
              "      <th>Open</th>\n",
              "      <th>High</th>\n",
              "      <th>Low</th>\n",
              "      <th>Close</th>\n",
              "      <th>Adj Close</th>\n",
              "      <th>Volume</th>\n",
              "    </tr>\n",
              "  </thead>\n",
              "  <tbody>\n",
              "    <tr>\n",
              "      <th>0</th>\n",
              "      <td>2015-01-01</td>\n",
              "      <td>476.000000</td>\n",
              "      <td>476.524994</td>\n",
              "      <td>473.125000</td>\n",
              "      <td>475.649994</td>\n",
              "      <td>449.683533</td>\n",
              "      <td>106832.0</td>\n",
              "    </tr>\n",
              "    <tr>\n",
              "      <th>1</th>\n",
              "      <td>2015-01-02</td>\n",
              "      <td>476.024994</td>\n",
              "      <td>484.500000</td>\n",
              "      <td>476.024994</td>\n",
              "      <td>482.475006</td>\n",
              "      <td>456.135956</td>\n",
              "      <td>449590.0</td>\n",
              "    </tr>\n",
              "    <tr>\n",
              "      <th>2</th>\n",
              "      <td>2015-01-05</td>\n",
              "      <td>484.899994</td>\n",
              "      <td>486.149994</td>\n",
              "      <td>477.575012</td>\n",
              "      <td>478.325012</td>\n",
              "      <td>452.212524</td>\n",
              "      <td>465650.0</td>\n",
              "    </tr>\n",
              "    <tr>\n",
              "      <th>3</th>\n",
              "      <td>2015-01-06</td>\n",
              "      <td>477.500000</td>\n",
              "      <td>478.225006</td>\n",
              "      <td>468.850006</td>\n",
              "      <td>471.325012</td>\n",
              "      <td>445.594635</td>\n",
              "      <td>154052.0</td>\n",
              "    </tr>\n",
              "    <tr>\n",
              "      <th>4</th>\n",
              "      <td>2015-01-07</td>\n",
              "      <td>471.049988</td>\n",
              "      <td>475.500000</td>\n",
              "      <td>466.000000</td>\n",
              "      <td>472.674988</td>\n",
              "      <td>446.870911</td>\n",
              "      <td>93128.0</td>\n",
              "    </tr>\n",
              "    <tr>\n",
              "      <th>5</th>\n",
              "      <td>2015-01-08</td>\n",
              "      <td>477.399994</td>\n",
              "      <td>484.500000</td>\n",
              "      <td>474.450012</td>\n",
              "      <td>482.250000</td>\n",
              "      <td>455.923248</td>\n",
              "      <td>339724.0</td>\n",
              "    </tr>\n",
              "    <tr>\n",
              "      <th>6</th>\n",
              "      <td>2015-01-09</td>\n",
              "      <td>484.924988</td>\n",
              "      <td>489.625000</td>\n",
              "      <td>483.424988</td>\n",
              "      <td>487.350006</td>\n",
              "      <td>460.744843</td>\n",
              "      <td>413504.0</td>\n",
              "    </tr>\n",
              "    <tr>\n",
              "      <th>7</th>\n",
              "      <td>2015-01-12</td>\n",
              "      <td>485.000000</td>\n",
              "      <td>487.149994</td>\n",
              "      <td>482.049988</td>\n",
              "      <td>484.049988</td>\n",
              "      <td>457.624939</td>\n",
              "      <td>213590.0</td>\n",
              "    </tr>\n",
              "    <tr>\n",
              "      <th>8</th>\n",
              "      <td>2015-01-13</td>\n",
              "      <td>485.500000</td>\n",
              "      <td>485.725006</td>\n",
              "      <td>478.000000</td>\n",
              "      <td>481.774994</td>\n",
              "      <td>455.474152</td>\n",
              "      <td>466444.0</td>\n",
              "    </tr>\n",
              "    <tr>\n",
              "      <th>9</th>\n",
              "      <td>2015-01-14</td>\n",
              "      <td>481.200012</td>\n",
              "      <td>487.149994</td>\n",
              "      <td>480.125000</td>\n",
              "      <td>481.674988</td>\n",
              "      <td>455.379608</td>\n",
              "      <td>126106.0</td>\n",
              "    </tr>\n",
              "  </tbody>\n",
              "</table>\n",
              "</div>"
            ],
            "text/plain": [
              "         Date        Open        High         Low       Close   Adj Close  \\\n",
              "0  2015-01-01  476.000000  476.524994  473.125000  475.649994  449.683533   \n",
              "1  2015-01-02  476.024994  484.500000  476.024994  482.475006  456.135956   \n",
              "2  2015-01-05  484.899994  486.149994  477.575012  478.325012  452.212524   \n",
              "3  2015-01-06  477.500000  478.225006  468.850006  471.325012  445.594635   \n",
              "4  2015-01-07  471.049988  475.500000  466.000000  472.674988  446.870911   \n",
              "5  2015-01-08  477.399994  484.500000  474.450012  482.250000  455.923248   \n",
              "6  2015-01-09  484.924988  489.625000  483.424988  487.350006  460.744843   \n",
              "7  2015-01-12  485.000000  487.149994  482.049988  484.049988  457.624939   \n",
              "8  2015-01-13  485.500000  485.725006  478.000000  481.774994  455.474152   \n",
              "9  2015-01-14  481.200012  487.149994  480.125000  481.674988  455.379608   \n",
              "\n",
              "     Volume  \n",
              "0  106832.0  \n",
              "1  449590.0  \n",
              "2  465650.0  \n",
              "3  154052.0  \n",
              "4   93128.0  \n",
              "5  339724.0  \n",
              "6  413504.0  \n",
              "7  213590.0  \n",
              "8  466444.0  \n",
              "9  126106.0  "
            ]
          },
          "execution_count": 19,
          "metadata": {},
          "output_type": "execute_result"
        }
      ],
      "source": [
        "hdfc.head(10)"
      ]
    },
    {
      "cell_type": "code",
      "execution_count": 20,
      "metadata": {
        "colab": {
          "base_uri": "https://localhost:8080/",
          "height": 252
        },
        "colab_type": "code",
        "id": "Nn4iEga77RGR",
        "outputId": "424bab60-0269-4b40-a8b5-3a2e912c3377"
      },
      "outputs": [
        {
          "name": "stdout",
          "output_type": "stream",
          "text": [
            "<class 'pandas.core.frame.DataFrame'>\n",
            "RangeIndex: 1993 entries, 0 to 1992\n",
            "Data columns (total 7 columns):\n",
            " #   Column     Non-Null Count  Dtype  \n",
            "---  ------     --------------  -----  \n",
            " 0   Date       1993 non-null   object \n",
            " 1   Open       1988 non-null   float64\n",
            " 2   High       1988 non-null   float64\n",
            " 3   Low        1988 non-null   float64\n",
            " 4   Close      1988 non-null   float64\n",
            " 5   Adj Close  1988 non-null   float64\n",
            " 6   Volume     1988 non-null   float64\n",
            "dtypes: float64(6), object(1)\n",
            "memory usage: 109.1+ KB\n"
          ]
        }
      ],
      "source": [
        "hdfc.info()"
      ]
    },
    {
      "cell_type": "code",
      "execution_count": 21,
      "metadata": {
        "colab": {
          "base_uri": "https://localhost:8080/",
          "height": 402
        },
        "colab_type": "code",
        "id": "lcz8GT-h7RJg",
        "outputId": "4de8f95e-7516-475e-f3cf-fc0b3fa7fd25"
      },
      "outputs": [
        {
          "data": {
            "text/html": [
              "<div>\n",
              "<style scoped>\n",
              "    .dataframe tbody tr th:only-of-type {\n",
              "        vertical-align: middle;\n",
              "    }\n",
              "\n",
              "    .dataframe tbody tr th {\n",
              "        vertical-align: top;\n",
              "    }\n",
              "\n",
              "    .dataframe thead th {\n",
              "        text-align: right;\n",
              "    }\n",
              "</style>\n",
              "<table border=\"1\" class=\"dataframe\">\n",
              "  <thead>\n",
              "    <tr style=\"text-align: right;\">\n",
              "      <th></th>\n",
              "      <th>Date</th>\n",
              "      <th>Open</th>\n",
              "      <th>High</th>\n",
              "      <th>Low</th>\n",
              "      <th>Close</th>\n",
              "      <th>Adj Close</th>\n",
              "      <th>Volume</th>\n",
              "    </tr>\n",
              "  </thead>\n",
              "  <tbody>\n",
              "    <tr>\n",
              "      <th>0</th>\n",
              "      <td>2015-01-01</td>\n",
              "      <td>476.000000</td>\n",
              "      <td>476.524994</td>\n",
              "      <td>473.125000</td>\n",
              "      <td>475.649994</td>\n",
              "      <td>449.683533</td>\n",
              "      <td>106832.0</td>\n",
              "    </tr>\n",
              "    <tr>\n",
              "      <th>1</th>\n",
              "      <td>2015-01-02</td>\n",
              "      <td>476.024994</td>\n",
              "      <td>484.500000</td>\n",
              "      <td>476.024994</td>\n",
              "      <td>482.475006</td>\n",
              "      <td>456.135956</td>\n",
              "      <td>449590.0</td>\n",
              "    </tr>\n",
              "    <tr>\n",
              "      <th>2</th>\n",
              "      <td>2015-01-05</td>\n",
              "      <td>484.899994</td>\n",
              "      <td>486.149994</td>\n",
              "      <td>477.575012</td>\n",
              "      <td>478.325012</td>\n",
              "      <td>452.212524</td>\n",
              "      <td>465650.0</td>\n",
              "    </tr>\n",
              "    <tr>\n",
              "      <th>3</th>\n",
              "      <td>2015-01-06</td>\n",
              "      <td>477.500000</td>\n",
              "      <td>478.225006</td>\n",
              "      <td>468.850006</td>\n",
              "      <td>471.325012</td>\n",
              "      <td>445.594635</td>\n",
              "      <td>154052.0</td>\n",
              "    </tr>\n",
              "    <tr>\n",
              "      <th>4</th>\n",
              "      <td>2015-01-07</td>\n",
              "      <td>471.049988</td>\n",
              "      <td>475.500000</td>\n",
              "      <td>466.000000</td>\n",
              "      <td>472.674988</td>\n",
              "      <td>446.870911</td>\n",
              "      <td>93128.0</td>\n",
              "    </tr>\n",
              "    <tr>\n",
              "      <th>...</th>\n",
              "      <td>...</td>\n",
              "      <td>...</td>\n",
              "      <td>...</td>\n",
              "      <td>...</td>\n",
              "      <td>...</td>\n",
              "      <td>...</td>\n",
              "      <td>...</td>\n",
              "    </tr>\n",
              "    <tr>\n",
              "      <th>1988</th>\n",
              "      <td>2023-01-17</td>\n",
              "      <td>1592.000000</td>\n",
              "      <td>1610.800049</td>\n",
              "      <td>1577.699951</td>\n",
              "      <td>1608.599976</td>\n",
              "      <td>1590.366333</td>\n",
              "      <td>261717.0</td>\n",
              "    </tr>\n",
              "    <tr>\n",
              "      <th>1989</th>\n",
              "      <td>2023-01-18</td>\n",
              "      <td>1607.900024</td>\n",
              "      <td>1641.000000</td>\n",
              "      <td>1601.000000</td>\n",
              "      <td>1636.949951</td>\n",
              "      <td>1618.394897</td>\n",
              "      <td>161546.0</td>\n",
              "    </tr>\n",
              "    <tr>\n",
              "      <th>1990</th>\n",
              "      <td>2023-01-19</td>\n",
              "      <td>1630.050049</td>\n",
              "      <td>1649.349976</td>\n",
              "      <td>1630.050049</td>\n",
              "      <td>1644.099976</td>\n",
              "      <td>1625.463867</td>\n",
              "      <td>94163.0</td>\n",
              "    </tr>\n",
              "    <tr>\n",
              "      <th>1991</th>\n",
              "      <td>2023-01-20</td>\n",
              "      <td>1643.800049</td>\n",
              "      <td>1668.000000</td>\n",
              "      <td>1642.599976</td>\n",
              "      <td>1660.800049</td>\n",
              "      <td>1641.974609</td>\n",
              "      <td>758155.0</td>\n",
              "    </tr>\n",
              "    <tr>\n",
              "      <th>1992</th>\n",
              "      <td>2023-01-23</td>\n",
              "      <td>1661.250000</td>\n",
              "      <td>1683.300049</td>\n",
              "      <td>1661.250000</td>\n",
              "      <td>1672.650024</td>\n",
              "      <td>1653.690308</td>\n",
              "      <td>85267.0</td>\n",
              "    </tr>\n",
              "  </tbody>\n",
              "</table>\n",
              "<p>1988 rows × 7 columns</p>\n",
              "</div>"
            ],
            "text/plain": [
              "            Date         Open         High          Low        Close  \\\n",
              "0     2015-01-01   476.000000   476.524994   473.125000   475.649994   \n",
              "1     2015-01-02   476.024994   484.500000   476.024994   482.475006   \n",
              "2     2015-01-05   484.899994   486.149994   477.575012   478.325012   \n",
              "3     2015-01-06   477.500000   478.225006   468.850006   471.325012   \n",
              "4     2015-01-07   471.049988   475.500000   466.000000   472.674988   \n",
              "...          ...          ...          ...          ...          ...   \n",
              "1988  2023-01-17  1592.000000  1610.800049  1577.699951  1608.599976   \n",
              "1989  2023-01-18  1607.900024  1641.000000  1601.000000  1636.949951   \n",
              "1990  2023-01-19  1630.050049  1649.349976  1630.050049  1644.099976   \n",
              "1991  2023-01-20  1643.800049  1668.000000  1642.599976  1660.800049   \n",
              "1992  2023-01-23  1661.250000  1683.300049  1661.250000  1672.650024   \n",
              "\n",
              "        Adj Close    Volume  \n",
              "0      449.683533  106832.0  \n",
              "1      456.135956  449590.0  \n",
              "2      452.212524  465650.0  \n",
              "3      445.594635  154052.0  \n",
              "4      446.870911   93128.0  \n",
              "...           ...       ...  \n",
              "1988  1590.366333  261717.0  \n",
              "1989  1618.394897  161546.0  \n",
              "1990  1625.463867   94163.0  \n",
              "1991  1641.974609  758155.0  \n",
              "1992  1653.690308   85267.0  \n",
              "\n",
              "[1988 rows x 7 columns]"
            ]
          },
          "execution_count": 21,
          "metadata": {},
          "output_type": "execute_result"
        }
      ],
      "source": [
        " hdfc_NEW=hdfc.dropna(axis=0)\n",
        " hdfc_NEW"
      ]
    },
    {
      "cell_type": "code",
      "execution_count": 22,
      "metadata": {
        "colab": {
          "base_uri": "https://localhost:8080/",
          "height": 252
        },
        "colab_type": "code",
        "id": "FsssqV3l7RMZ",
        "outputId": "ec075b6a-d3cd-4622-9e02-55923e9343a0"
      },
      "outputs": [
        {
          "name": "stdout",
          "output_type": "stream",
          "text": [
            "<class 'pandas.core.frame.DataFrame'>\n",
            "Int64Index: 1988 entries, 0 to 1992\n",
            "Data columns (total 7 columns):\n",
            " #   Column     Non-Null Count  Dtype  \n",
            "---  ------     --------------  -----  \n",
            " 0   Date       1988 non-null   object \n",
            " 1   Open       1988 non-null   float64\n",
            " 2   High       1988 non-null   float64\n",
            " 3   Low        1988 non-null   float64\n",
            " 4   Close      1988 non-null   float64\n",
            " 5   Adj Close  1988 non-null   float64\n",
            " 6   Volume     1988 non-null   float64\n",
            "dtypes: float64(6), object(1)\n",
            "memory usage: 124.2+ KB\n"
          ]
        }
      ],
      "source": [
        "hdfc_NEW.info()"
      ]
    },
    {
      "cell_type": "code",
      "execution_count": 23,
      "metadata": {
        "colab": {},
        "colab_type": "code",
        "id": "-rCDrGYN8mfb"
      },
      "outputs": [
        {
          "name": "stderr",
          "output_type": "stream",
          "text": [
            "C:\\Users\\Nakshatra\\AppData\\Local\\Temp\\ipykernel_24732\\1111499696.py:1: SettingWithCopyWarning: \n",
            "A value is trying to be set on a copy of a slice from a DataFrame.\n",
            "Try using .loc[row_indexer,col_indexer] = value instead\n",
            "\n",
            "See the caveats in the documentation: https://pandas.pydata.org/pandas-docs/stable/user_guide/indexing.html#returning-a-view-versus-a-copy\n",
            "  hdfc_NEW['Close']=pd.to_numeric(hdfc_NEW.Close,errors='coerce')\n"
          ]
        }
      ],
      "source": [
        "hdfc_NEW['Close']=pd.to_numeric(hdfc_NEW.Close,errors='coerce')\n",
        "hdfc_NEW = hdfc_NEW.dropna()\n",
        "hdfc_TRAIN = hdfc_NEW.iloc[:,4:5].values"
      ]
    },
    {
      "cell_type": "code",
      "execution_count": 24,
      "metadata": {
        "colab": {
          "base_uri": "https://localhost:8080/",
          "height": 252
        },
        "colab_type": "code",
        "id": "DZjynYeX8mj-",
        "outputId": "effeb358-df0a-4e0d-85b6-3a2cac1cc88b"
      },
      "outputs": [
        {
          "name": "stdout",
          "output_type": "stream",
          "text": [
            "<class 'pandas.core.frame.DataFrame'>\n",
            "Int64Index: 1988 entries, 0 to 1992\n",
            "Data columns (total 7 columns):\n",
            " #   Column     Non-Null Count  Dtype  \n",
            "---  ------     --------------  -----  \n",
            " 0   Date       1988 non-null   object \n",
            " 1   Open       1988 non-null   float64\n",
            " 2   High       1988 non-null   float64\n",
            " 3   Low        1988 non-null   float64\n",
            " 4   Close      1988 non-null   float64\n",
            " 5   Adj Close  1988 non-null   float64\n",
            " 6   Volume     1988 non-null   float64\n",
            "dtypes: float64(6), object(1)\n",
            "memory usage: 124.2+ KB\n"
          ]
        }
      ],
      "source": [
        "hdfc_NEW.info()"
      ]
    },
    {
      "cell_type": "markdown",
      "metadata": {},
      "source": [
        "### Min-Max Scaling"
      ]
    },
    {
      "cell_type": "code",
      "execution_count": 25,
      "metadata": {
        "colab": {
          "base_uri": "https://localhost:8080/",
          "height": 34
        },
        "colab_type": "code",
        "id": "1BKCAbDZ8mpZ",
        "outputId": "ab9cb7ea-3f2a-47a4-df2d-66bac17e91a2"
      },
      "outputs": [
        {
          "data": {
            "text/plain": [
              "(1988, 1)"
            ]
          },
          "execution_count": 25,
          "metadata": {},
          "output_type": "execute_result"
        }
      ],
      "source": [
        "sc = MinMaxScaler(feature_range=(0,1))\n",
        "hdfc_TRAIN = sc.fit_transform(hdfc_TRAIN)\n",
        "hdfc_TRAIN.shape"
      ]
    },
    {
      "cell_type": "markdown",
      "metadata": {},
      "source": [
        "### Train Test Split"
      ]
    },
    {
      "cell_type": "code",
      "execution_count": 26,
      "metadata": {
        "colab": {},
        "colab_type": "code",
        "id": "fmGB6cne8mtE"
      },
      "outputs": [],
      "source": [
        "x_train = []\n",
        "y_train = []\n",
        "\n",
        "for i in range (60,1227):\n",
        "  x_train.append(hdfc_TRAIN[i-60:i,0])\n",
        "  y_train.append(hdfc_TRAIN[i,0])\n",
        "\n",
        "x_train, y_train = np.array(x_train), np.array(y_train)"
      ]
    },
    {
      "cell_type": "code",
      "execution_count": 27,
      "metadata": {
        "colab": {
          "base_uri": "https://localhost:8080/",
          "height": 34
        },
        "colab_type": "code",
        "id": "Bt_Rugc08mnw",
        "outputId": "c8eb92ae-b97f-404e-805c-afc442828ca5"
      },
      "outputs": [
        {
          "data": {
            "text/plain": [
              "(1167, 60, 1)"
            ]
          },
          "execution_count": 27,
          "metadata": {},
          "output_type": "execute_result"
        }
      ],
      "source": [
        "x_train = np.reshape(x_train,(x_train.shape[0],x_train.shape[1],1))\n",
        "x_train.shape"
      ]
    },
    {
      "cell_type": "markdown",
      "metadata": {},
      "source": [
        "### LSTM Model"
      ]
    },
    {
      "cell_type": "markdown",
      "metadata": {},
      "source": [
        "#### Model Training"
      ]
    },
    {
      "cell_type": "code",
      "execution_count": 28,
      "metadata": {
        "colab": {},
        "colab_type": "code",
        "id": "THpXUqtY8mip"
      },
      "outputs": [],
      "source": [
        "model = Sequential()\n",
        "\n",
        "model.add(LSTM(units=100, return_sequences= True, input_shape=(x_train.shape[1],1)))\n",
        "model.add(Dropout(0.2))\n",
        "\n",
        "model.add(LSTM(units=100, return_sequences= True))\n",
        "model.add(Dropout(0.2))\n",
        "\n",
        "\n",
        "model.add(LSTM(units=100, return_sequences= True))\n",
        "model.add(Dropout(0.2))\n",
        "\n",
        "\n",
        "model.add(LSTM(units=100, return_sequences= False))\n",
        "model.add(Dropout(0.2))\n",
        "\n",
        "\n",
        "model.add(Dense(units=1))\n",
        "model.compile(optimizer='adam', loss='mean_squared_error')"
      ]
    },
    {
      "cell_type": "markdown",
      "metadata": {},
      "source": [
        "#### Model Training"
      ]
    },
    {
      "cell_type": "code",
      "execution_count": 29,
      "metadata": {
        "colab": {
          "base_uri": "https://localhost:8080/",
          "height": 689
        },
        "colab_type": "code",
        "id": "RlfBDOer8mdw",
        "outputId": "513c2575-d500-4863-b4ef-a21da1fb6381"
      },
      "outputs": [
        {
          "name": "stdout",
          "output_type": "stream",
          "text": [
            "Epoch 1/25\n",
            "37/37 - 8s - loss: 0.0122 - 8s/epoch - 227ms/step\n",
            "Epoch 2/25\n",
            "37/37 - 3s - loss: 0.0015 - 3s/epoch - 86ms/step\n",
            "Epoch 3/25\n",
            "37/37 - 3s - loss: 0.0012 - 3s/epoch - 83ms/step\n",
            "Epoch 4/25\n",
            "37/37 - 3s - loss: 0.0013 - 3s/epoch - 81ms/step\n",
            "Epoch 5/25\n",
            "37/37 - 3s - loss: 0.0011 - 3s/epoch - 77ms/step\n",
            "Epoch 6/25\n",
            "37/37 - 3s - loss: 0.0011 - 3s/epoch - 86ms/step\n",
            "Epoch 7/25\n",
            "37/37 - 3s - loss: 0.0011 - 3s/epoch - 84ms/step\n",
            "Epoch 8/25\n",
            "37/37 - 4s - loss: 0.0012 - 4s/epoch - 96ms/step\n",
            "Epoch 9/25\n",
            "37/37 - 3s - loss: 0.0011 - 3s/epoch - 88ms/step\n",
            "Epoch 10/25\n",
            "37/37 - 3s - loss: 0.0010 - 3s/epoch - 84ms/step\n",
            "Epoch 11/25\n",
            "37/37 - 3s - loss: 9.9228e-04 - 3s/epoch - 81ms/step\n",
            "Epoch 12/25\n",
            "37/37 - 3s - loss: 9.8594e-04 - 3s/epoch - 82ms/step\n",
            "Epoch 13/25\n",
            "37/37 - 3s - loss: 9.1186e-04 - 3s/epoch - 83ms/step\n",
            "Epoch 14/25\n",
            "37/37 - 3s - loss: 8.6428e-04 - 3s/epoch - 83ms/step\n",
            "Epoch 15/25\n",
            "37/37 - 3s - loss: 9.5107e-04 - 3s/epoch - 87ms/step\n",
            "Epoch 16/25\n",
            "37/37 - 3s - loss: 9.1324e-04 - 3s/epoch - 85ms/step\n",
            "Epoch 17/25\n",
            "37/37 - 3s - loss: 0.0011 - 3s/epoch - 80ms/step\n",
            "Epoch 18/25\n",
            "37/37 - 3s - loss: 9.1904e-04 - 3s/epoch - 84ms/step\n",
            "Epoch 19/25\n",
            "37/37 - 3s - loss: 7.5684e-04 - 3s/epoch - 80ms/step\n",
            "Epoch 20/25\n",
            "37/37 - 3s - loss: 9.1647e-04 - 3s/epoch - 79ms/step\n",
            "Epoch 21/25\n",
            "37/37 - 3s - loss: 0.0010 - 3s/epoch - 78ms/step\n",
            "Epoch 22/25\n",
            "37/37 - 3s - loss: 7.2690e-04 - 3s/epoch - 76ms/step\n",
            "Epoch 23/25\n",
            "37/37 - 3s - loss: 7.4421e-04 - 3s/epoch - 75ms/step\n",
            "Epoch 24/25\n",
            "37/37 - 3s - loss: 7.7123e-04 - 3s/epoch - 75ms/step\n",
            "Epoch 25/25\n",
            "37/37 - 3s - loss: 8.8969e-04 - 3s/epoch - 77ms/step\n"
          ]
        }
      ],
      "source": [
        "hist = model.fit(x_train, y_train, epochs=25, batch_size=32, verbose=2)"
      ]
    },
    {
      "cell_type": "markdown",
      "metadata": {},
      "source": [
        "#### Loss Plot"
      ]
    },
    {
      "cell_type": "code",
      "execution_count": 30,
      "metadata": {
        "colab": {
          "base_uri": "https://localhost:8080/",
          "height": 295
        },
        "colab_type": "code",
        "id": "XeYfbRoML55j",
        "outputId": "44a4bd02-e0b6-4d8b-ff56-0aefbf58196b"
      },
      "outputs": [
        {
          "data": {
            "image/png": "[encoded data removed]",
            "text/plain": [
              "<Figure size 432x288 with 1 Axes>"
            ]
          },
          "metadata": {
            "needs_background": "light"
          },
          "output_type": "display_data"
        }
      ],
      "source": [
        "plt.plot(hist.history['loss'])\n",
        "plt.title('Training model loss')\n",
        "plt.ylabel('Loss')\n",
        "plt.xlabel('epoch')\n",
        "plt.legend(['train'],loc='upper left')\n",
        "plt.show()"
      ]
    },
    {
      "cell_type": "code",
      "execution_count": 31,
      "metadata": {
        "colab": {
          "base_uri": "https://localhost:8080/",
          "height": 34
        },
        "colab_type": "code",
        "id": "ahGa-Rd3Z_Vf",
        "outputId": "5f224f47-9c7d-48b5-ba0c-201a5bd89e98"
      },
      "outputs": [
        {
          "data": {
            "text/plain": [
              "Index(['Date', 'Open', 'High', 'Low', 'Close', 'Adj Close', 'Volume'], dtype='object')"
            ]
          },
          "execution_count": 31,
          "metadata": {},
          "output_type": "execute_result"
        }
      ],
      "source": [
        "hdfc_NEW.columns"
      ]
    },
    {
      "cell_type": "markdown",
      "metadata": {},
      "source": [
        "### Prediction On Test Data"
      ]
    },
    {
      "cell_type": "code",
      "execution_count": 32,
      "metadata": {
        "colab": {
          "base_uri": "https://localhost:8080/",
          "height": 34
        },
        "colab_type": "code",
        "id": "UOTEDQi_NHfa",
        "outputId": "b17eb3b8-51ae-456b-f4ab-586f89f14551"
      },
      "outputs": [
        {
          "data": {
            "text/plain": [
              "(1928, 60, 1)"
            ]
          },
          "execution_count": 32,
          "metadata": {},
          "output_type": "execute_result"
        }
      ],
      "source": [
        "hdfc_TEST = pd.read_csv(r\"HDFCBANK.BO.csv\")\n",
        "hdfc_TEST[\"Close\"]=pd.to_numeric(hdfc_TEST.Close, errors='coerce')\n",
        "hdfc_TEST = hdfc_TEST.dropna()\n",
        "hdfc_TEST = hdfc_TEST.iloc[:,4:5]\n",
        "y_test = hdfc_TEST.iloc[60:,0:].values\n",
        "\n",
        "inputClosing = hdfc_TEST.iloc[:,0:].values\n",
        "inputClosing_scaled = sc.transform(inputClosing)\n",
        "inputClosing_scaled.shape\n",
        "x_test = []\n",
        "length = len(hdfc_TEST)\n",
        "timestep = 60\n",
        "for i in range (timestep, length):\n",
        "  x_test.append(inputClosing_scaled[i-timestep:i,0])\n",
        "x_test = np.array(x_test)\n",
        "x_test = np.reshape(x_test, (x_test.shape[0],x_test.shape[1],1))\n",
        "x_test.shape\n"
      ]
    },
    {
      "cell_type": "code",
      "execution_count": 33,
      "metadata": {
        "colab": {
          "base_uri": "https://localhost:8080/",
          "height": 134
        },
        "colab_type": "code",
        "id": "YNFmNoncNHzM",
        "outputId": "61829c26-f793-4439-edc5-562a13257a7f"
      },
      "outputs": [
        {
          "name": "stdout",
          "output_type": "stream",
          "text": [
            "61/61 [==============================] - 2s 21ms/step\n"
          ]
        },
        {
          "data": {
            "text/plain": [
              "array([[0.05200117],\n",
              "       [0.05060305],\n",
              "       [0.04921299],\n",
              "       ...,\n",
              "       [0.88447595],\n",
              "       [0.8841405 ],\n",
              "       [0.8851524 ]], dtype=float32)"
            ]
          },
          "execution_count": 33,
          "metadata": {},
          "output_type": "execute_result"
        }
      ],
      "source": [
        "y_predict = model.predict(x_test)\n",
        "y_predict"
      ]
    },
    {
      "cell_type": "code",
      "execution_count": 34,
      "metadata": {
        "colab": {},
        "colab_type": "code",
        "id": "-o0gjVRoNH8M"
      },
      "outputs": [],
      "source": [
        "predicted_price = sc.inverse_transform(y_predict)"
      ]
    },
    {
      "cell_type": "markdown",
      "metadata": {},
      "source": [
        "### Plot Of Actual & Predicted Stock Price"
      ]
    },
    {
      "cell_type": "code",
      "execution_count": 35,
      "metadata": {
        "colab": {
          "base_uri": "https://localhost:8080/",
          "height": 295
        },
        "colab_type": "code",
        "id": "HNzEChcUNIAO",
        "outputId": "619386c9-c74d-4437-8f8e-19bf4a3e6c0f"
      },
      "outputs": [
        {
          "data": {
            "image/png": "[encoded data removed]",
            "text/plain": [
              "<Figure size 432x288 with 1 Axes>"
            ]
          },
          "metadata": {
            "needs_background": "light"
          },
          "output_type": "display_data"
        }
      ],
      "source": [
        "plt.plot(y_test, color='black', label='ACTUAL STOCK PRICE')\n",
        "plt.plot(predicted_price, color='red', label='PREDICTED STOCK PRICE')\n",
        "plt.title('HDFC STOCK PRICE PREDICTION')\n",
        "plt.xlabel('TIME')\n",
        "plt.ylabel('STOCK PRICE')\n",
        "plt.legend()\n",
        "plt.show()"
      ]
    }
  ],
  "metadata": {
    "colab": {
      "name": "INFOSYS_Stock_Market_Prediction_LSTM.ipynb",
      "provenance": []
    },
    "kernelspec": {
      "display_name": "Python 3",
      "name": "python3"
    },
    "language_info": {
      "codemirror_mode": {
        "name": "ipython",
        "version": 3
      },
      "file_extension": ".py",
      "mimetype": "text/x-python",
      "name": "python",
      "nbconvert_exporter": "python",
      "pygments_lexer": "ipython3",
      "version": "3.9.12"
    }
  },
  "nbformat": 4,
  "nbformat_minor": 0
}
